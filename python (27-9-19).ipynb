{
 "cells": [
  {
   "cell_type": "code",
   "execution_count": 3,
   "metadata": {},
   "outputs": [
    {
     "name": "stdout",
     "output_type": "stream",
     "text": [
      "File is created and data is written\n"
     ]
    }
   ],
   "source": [
    "def createFile(filename):\n",
    "    f = open(filename,\"w\")\n",
    "    for i in range(10):\n",
    "        f.write(\"This is %d line\\n\" % i)\n",
    "    print(\"File is created and data is written\")\n",
    "    f.close()\n",
    "    return\n",
    "createFile(\"File1.txt\")\n"
   ]
  },
  {
   "cell_type": "code",
   "execution_count": 5,
   "metadata": {},
   "outputs": [
    {
     "name": "stdout",
     "output_type": "stream",
     "text": [
      "This is 0 line\n",
      "This is 1 line\n",
      "This is 2 line\n",
      "This is 3 line\n",
      "This is 4 line\n",
      "This is 5 line\n",
      "This is 6 line\n",
      "This is 7 line\n",
      "This is 8 line\n",
      "This is 9 line\n",
      "\n"
     ]
    }
   ],
   "source": [
    "def readFile(filename):\n",
    "    f=open(filename,\"r\")\n",
    "    if f.mode == \"r\":\n",
    "        x=f.read()\n",
    "        print(x)\n",
    "    f.close()\n",
    "    return\n",
    "readFile(\"File1.txt\")"
   ]
  },
  {
   "cell_type": "code",
   "execution_count": 7,
   "metadata": {},
   "outputs": [
    {
     "name": "stdout",
     "output_type": "stream",
     "text": [
      "0\n"
     ]
    }
   ],
   "source": [
    "def dataAnalysisWordCount(filename,word):\n",
    "    f = open(filename,\"r\")\n",
    "    if f.mode == \"r\":\n",
    "        x = f.read()\n",
    "        lst = x.split()\n",
    "    cnt = lst.count(word)\n",
    "    return cnt\n",
    "print(dataAnalysisWordCount(\"File1.txt\",\"Test\"))"
   ]
  },
  {
   "cell_type": "code",
   "execution_count": 9,
   "metadata": {},
   "outputs": [
    {
     "name": "stdout",
     "output_type": "stream",
     "text": [
      "150\n"
     ]
    }
   ],
   "source": [
    "def countCharecter(filename):\n",
    "    f=open(filename,\"r\")\n",
    "    if f.mode==\"r\":\n",
    "        x=f.read()\n",
    "        lst=list(x)\n",
    "    return len(lst)\n",
    "print(countCharecter(\"File1.txt\"))\n"
   ]
  },
  {
   "cell_type": "code",
   "execution_count": 13,
   "metadata": {},
   "outputs": [
    {
     "name": "stdout",
     "output_type": "stream",
     "text": [
      "10\n"
     ]
    }
   ],
   "source": [
    "def uppercasecharcount(filename):\n",
    "   cntUpper=0\n",
    "   f=open(filename,\"r\")\n",
    "   if f.mode==\"r\":\n",
    "       x=f.read()\n",
    "       lst=list(x)\n",
    "   for i in lst:\n",
    "       if i.isupper():\n",
    "               cntUpper+=1\n",
    "   return cntUpper\n",
    "print(uppercasecharcount(\"file1.txt\"))\n",
    "    "
   ]
  },
  {
   "cell_type": "code",
   "execution_count": 15,
   "metadata": {},
   "outputs": [
    {
     "data": {
      "text/plain": [
       "11"
      ]
     },
     "execution_count": 15,
     "metadata": {},
     "output_type": "execute_result"
    }
   ],
   "source": [
    "def countLines(filename):\n",
    "    f = open(filename,\"r\")\n",
    "    if f.mode == \"r\":\n",
    "        x = f.read()\n",
    "        lst= x.split(\"\\n\")\n",
    "    return len(lst)\n",
    "countLines(\"File1.txt\")"
   ]
  },
  {
   "cell_type": "code",
   "execution_count": 6,
   "metadata": {},
   "outputs": [
    {
     "name": "stdout",
     "output_type": "stream",
     "text": [
      "False\n",
      "True\n",
      "True\n"
     ]
    }
   ],
   "source": [
    "import re\n",
    "def phonenumbervalidate(phone):\n",
    " pattern ='^[6-9][0-9]{9}$'\n",
    " phone=str(phone)\n",
    " if re.match(pattern,phone):\n",
    "   return True\n",
    " return False\n",
    "print(phonenumbervalidate(905262227))\n",
    "print(phonenumbervalidate(7702399455))\n",
    "print(phonenumbervalidate(9705637957))\n"
   ]
  },
  {
   "cell_type": "code",
   "execution_count": 14,
   "metadata": {},
   "outputs": [
    {
     "name": "stdout",
     "output_type": "stream",
     "text": [
      "False\n",
      "True\n"
     ]
    }
   ],
   "source": [
    "import re\n",
    "def validateRollNumber(number):\n",
    "    number = str(number)\n",
    "    pattern = \"^[1][5][2][U][1][A][0][1-9][0-6][0-9]$\"\n",
    "    if re.match(pattern,number):\n",
    "        return True\n",
    "    return False\n",
    "print(validateRollNumber(\"153U1A0555\"))\n",
    "print(validateRollNumber(\"152U1A0555\"))\n",
    "\n"
   ]
  },
  {
   "cell_type": "code",
   "execution_count": 17,
   "metadata": {},
   "outputs": [
    {
     "name": "stdout",
     "output_type": "stream",
     "text": [
      "False\n",
      "False\n",
      "True\n",
      "True\n"
     ]
    }
   ],
   "source": [
    "import re\n",
    "def validateEmailid(id):\n",
    " id=str(id)\n",
    " pattern ='^[a-z0-9][a-z0-9_.]{6,15}[a-z0-9][@][a-z0-9]{3,18}[.][a-z]{2,4}$'\n",
    " if re.match(pattern,id):\n",
    "   return True\n",
    " return False\n",
    "print( validateEmailid(\"thanujpathapati_@gmail.com\"))\n",
    "print(validateEmailid(\"$thanujsrivatsava@gmail.com\"))\n",
    "print(validateEmailid(\"manidutt07@gmail.com\"))\n",
    "print(validateEmailid(\"thanujpathapati@gmail.com\"))"
   ]
  },
  {
   "cell_type": "code",
   "execution_count": 19,
   "metadata": {},
   "outputs": [
    {
     "name": "stdout",
     "output_type": "stream",
     "text": [
      "True\n",
      "True\n",
      "False\n"
     ]
    }
   ],
   "source": [
    "import re\n",
    "def validatepassword(password):\n",
    " password=str(password)\n",
    " pattern ='^[a-zA-z0-9]{6,15}[!@#$%^&*()_+~`/-]{0,3}$'\n",
    " if re.match(pattern,password):\n",
    "   return True\n",
    " return False\n",
    "print(validatepassword(\"fgjahsjhgla\"))\n",
    "print(validatepassword(\"hglaghurts@!\"))\n",
    "print(validatepassword(\"dgwgdhr#$!%*&\"))"
   ]
  },
  {
   "cell_type": "code",
   "execution_count": null,
   "metadata": {},
   "outputs": [],
   "source": []
  }
 ],
 "metadata": {
  "kernelspec": {
   "display_name": "Python 3",
   "language": "python",
   "name": "python3"
  },
  "language_info": {
   "codemirror_mode": {
    "name": "ipython",
    "version": 3
   },
   "file_extension": ".py",
   "mimetype": "text/x-python",
   "name": "python",
   "nbconvert_exporter": "python",
   "pygments_lexer": "ipython3",
   "version": "3.7.3"
  }
 },
 "nbformat": 4,
 "nbformat_minor": 2
}
